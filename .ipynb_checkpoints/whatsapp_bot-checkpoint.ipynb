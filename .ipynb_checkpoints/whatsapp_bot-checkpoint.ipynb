{
 "cells": [
  {
   "cell_type": "code",
   "execution_count": 29,
   "id": "coupled-north",
   "metadata": {},
   "outputs": [],
   "source": [
    "from whatsapp_api import WhatsApp"
   ]
  },
  {
   "cell_type": "code",
   "execution_count": 30,
   "id": "italic-pilot",
   "metadata": {},
   "outputs": [
    {
     "name": "stderr",
     "output_type": "stream",
     "text": [
      "\n",
      "\n",
      "====== WebDriver manager ======\n",
      "Current google-chrome version is 91.0.4472\n",
      "Get LATEST driver version for 91.0.4472\n"
     ]
    },
    {
     "name": "stdout",
     "output_type": "stream",
     "text": [
      "Loading...\n"
     ]
    },
    {
     "name": "stderr",
     "output_type": "stream",
     "text": [
      "Driver [C:\\Users\\erycm\\.wdm\\drivers\\chromedriver\\win32\\91.0.4472.101\\chromedriver.exe] found in cache\n"
     ]
    },
    {
     "name": "stdout",
     "output_type": "stream",
     "text": [
      "Please scan the QR Code\n"
     ]
    }
   ],
   "source": [
    "wp = WhatsApp() #Inicia o whatsapp. Precisa ler o QR code"
   ]
  },
  {
   "cell_type": "code",
   "execution_count": 32,
   "id": "round-airline",
   "metadata": {},
   "outputs": [],
   "source": [
    "wp.search_contact('Pai') # nome do seu contato"
   ]
  },
  {
   "cell_type": "code",
   "execution_count": 33,
   "id": "packed-helping",
   "metadata": {},
   "outputs": [],
   "source": [
    "wp.write_message(\"Teste\") # Apenas escreve mensagem\n",
    "wp.send_message(\"Teste\") # Escreve e manda a mensagem"
   ]
  },
  {
   "cell_type": "code",
   "execution_count": 24,
   "id": "floral-kansas",
   "metadata": {},
   "outputs": [],
   "source": [
    "# Exemplo de usar uma agenda e mensagem customizada para cada contato\n",
    "dicionario_de_contatos = {\"Mãe\": \"Mensagem teste Mãe\", \n",
    "                          \"Pai\": \"Mensagem teste Pai\"}"
   ]
  },
  {
   "cell_type": "code",
   "execution_count": null,
   "id": "cellular-boulder",
   "metadata": {},
   "outputs": [],
   "source": [
    "for name, message in dicionario_de_contatos.items():\n",
    "    wp.search_contact(name)\n",
    "    wp.send_message(message)"
   ]
  }
 ],
 "metadata": {
  "kernelspec": {
   "display_name": "Python 3",
   "language": "python",
   "name": "python3"
  },
  "language_info": {
   "codemirror_mode": {
    "name": "ipython",
    "version": 3
   },
   "file_extension": ".py",
   "mimetype": "text/x-python",
   "name": "python",
   "nbconvert_exporter": "python",
   "pygments_lexer": "ipython3",
   "version": "3.8.8"
  }
 },
 "nbformat": 4,
 "nbformat_minor": 5
}
